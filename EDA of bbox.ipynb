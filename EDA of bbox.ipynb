{
 "cells": [
  {
   "cell_type": "code",
   "execution_count": 3,
   "metadata": {},
   "outputs": [
    {
     "name": "stderr",
     "output_type": "stream",
     "text": [
      "/home/yoda/tensorflow-1.9.0/local/lib/python2.7/site-packages/pandas/_libs/__init__.py:4: RuntimeWarning: numpy.dtype size changed, may indicate binary incompatibility. Expected 96, got 88\n",
      "  from .tslib import iNaT, NaT, Timestamp, Timedelta, OutOfBoundsDatetime\n",
      "/home/yoda/tensorflow-1.9.0/local/lib/python2.7/site-packages/pandas/__init__.py:26: RuntimeWarning: numpy.dtype size changed, may indicate binary incompatibility. Expected 96, got 88\n",
      "  from pandas._libs import (hashtable as _hashtable,\n",
      "/home/yoda/tensorflow-1.9.0/local/lib/python2.7/site-packages/pandas/core/dtypes/common.py:6: RuntimeWarning: numpy.dtype size changed, may indicate binary incompatibility. Expected 96, got 88\n",
      "  from pandas._libs import algos, lib\n",
      "/home/yoda/tensorflow-1.9.0/local/lib/python2.7/site-packages/pandas/core/util/hashing.py:7: RuntimeWarning: numpy.dtype size changed, may indicate binary incompatibility. Expected 96, got 88\n",
      "  from pandas._libs import hashing, tslib\n",
      "/home/yoda/tensorflow-1.9.0/local/lib/python2.7/site-packages/pandas/core/indexes/base.py:7: RuntimeWarning: numpy.dtype size changed, may indicate binary incompatibility. Expected 96, got 88\n",
      "  from pandas._libs import (lib, index as libindex, tslib as libts,\n",
      "/home/yoda/tensorflow-1.9.0/local/lib/python2.7/site-packages/pandas/tseries/offsets.py:21: RuntimeWarning: numpy.dtype size changed, may indicate binary incompatibility. Expected 96, got 88\n",
      "  import pandas._libs.tslibs.offsets as liboffsets\n",
      "/home/yoda/tensorflow-1.9.0/local/lib/python2.7/site-packages/pandas/core/ops.py:16: RuntimeWarning: numpy.dtype size changed, may indicate binary incompatibility. Expected 96, got 88\n",
      "  from pandas._libs import algos as libalgos, ops as libops\n",
      "/home/yoda/tensorflow-1.9.0/local/lib/python2.7/site-packages/pandas/core/indexes/interval.py:32: RuntimeWarning: numpy.dtype size changed, may indicate binary incompatibility. Expected 96, got 88\n",
      "  from pandas._libs.interval import (\n",
      "/home/yoda/tensorflow-1.9.0/local/lib/python2.7/site-packages/pandas/core/internals.py:14: RuntimeWarning: numpy.dtype size changed, may indicate binary incompatibility. Expected 96, got 88\n",
      "  from pandas._libs import internals as libinternals\n",
      "/home/yoda/tensorflow-1.9.0/local/lib/python2.7/site-packages/pandas/core/sparse/array.py:33: RuntimeWarning: numpy.dtype size changed, may indicate binary incompatibility. Expected 96, got 88\n",
      "  import pandas._libs.sparse as splib\n",
      "/home/yoda/tensorflow-1.9.0/local/lib/python2.7/site-packages/pandas/core/window.py:36: RuntimeWarning: numpy.dtype size changed, may indicate binary incompatibility. Expected 96, got 88\n",
      "  import pandas._libs.window as _window\n",
      "/home/yoda/tensorflow-1.9.0/local/lib/python2.7/site-packages/pandas/core/groupby/groupby.py:68: RuntimeWarning: numpy.dtype size changed, may indicate binary incompatibility. Expected 96, got 88\n",
      "  from pandas._libs import (lib, reduction,\n",
      "/home/yoda/tensorflow-1.9.0/local/lib/python2.7/site-packages/pandas/core/reshape/reshape.py:30: RuntimeWarning: numpy.dtype size changed, may indicate binary incompatibility. Expected 96, got 88\n",
      "  from pandas._libs import algos as _algos, reshape as _reshape\n",
      "/home/yoda/tensorflow-1.9.0/local/lib/python2.7/site-packages/pandas/io/parsers.py:45: RuntimeWarning: numpy.dtype size changed, may indicate binary incompatibility. Expected 96, got 88\n",
      "  import pandas._libs.parsers as parsers\n",
      "/home/yoda/tensorflow-1.9.0/local/lib/python2.7/site-packages/pandas/io/pytables.py:50: RuntimeWarning: numpy.dtype size changed, may indicate binary incompatibility. Expected 96, got 88\n",
      "  from pandas._libs import algos, lib, writers as libwriters\n",
      "/home/yoda/tensorflow-1.9.0/local/lib/python2.7/site-packages/scipy/special/__init__.py:640: RuntimeWarning: numpy.dtype size changed, may indicate binary incompatibility. Expected 96, got 88\n",
      "  from ._ufuncs import *\n",
      "/home/yoda/tensorflow-1.9.0/local/lib/python2.7/site-packages/scipy/linalg/basic.py:17: RuntimeWarning: numpy.dtype size changed, may indicate binary incompatibility. Expected 96, got 88\n",
      "  from ._solve_toeplitz import levinson\n",
      "/home/yoda/tensorflow-1.9.0/local/lib/python2.7/site-packages/scipy/linalg/__init__.py:207: RuntimeWarning: numpy.dtype size changed, may indicate binary incompatibility. Expected 96, got 88\n",
      "  from ._decomp_update import *\n",
      "/home/yoda/tensorflow-1.9.0/local/lib/python2.7/site-packages/scipy/special/_ellip_harm.py:7: RuntimeWarning: numpy.dtype size changed, may indicate binary incompatibility. Expected 96, got 88\n",
      "  from ._ellip_harm_2 import _ellipsoid, _ellipsoid_norm\n",
      "/home/yoda/tensorflow-1.9.0/local/lib/python2.7/site-packages/scipy/interpolate/_bsplines.py:10: RuntimeWarning: numpy.dtype size changed, may indicate binary incompatibility. Expected 96, got 88\n",
      "  from . import _bspl\n",
      "/home/yoda/tensorflow-1.9.0/local/lib/python2.7/site-packages/scipy/sparse/lil.py:19: RuntimeWarning: numpy.dtype size changed, may indicate binary incompatibility. Expected 96, got 88\n",
      "  from . import _csparsetools\n",
      "/home/yoda/tensorflow-1.9.0/local/lib/python2.7/site-packages/scipy/sparse/csgraph/__init__.py:165: RuntimeWarning: numpy.dtype size changed, may indicate binary incompatibility. Expected 96, got 88\n",
      "  from ._shortest_path import shortest_path, floyd_warshall, dijkstra,\\\n",
      "/home/yoda/tensorflow-1.9.0/local/lib/python2.7/site-packages/scipy/sparse/csgraph/_validation.py:5: RuntimeWarning: numpy.dtype size changed, may indicate binary incompatibility. Expected 96, got 88\n",
      "  from ._tools import csgraph_to_dense, csgraph_from_dense,\\\n",
      "/home/yoda/tensorflow-1.9.0/local/lib/python2.7/site-packages/scipy/sparse/csgraph/__init__.py:167: RuntimeWarning: numpy.dtype size changed, may indicate binary incompatibility. Expected 96, got 88\n",
      "  from ._traversal import breadth_first_order, depth_first_order, \\\n",
      "/home/yoda/tensorflow-1.9.0/local/lib/python2.7/site-packages/scipy/sparse/csgraph/__init__.py:169: RuntimeWarning: numpy.dtype size changed, may indicate binary incompatibility. Expected 96, got 88\n",
      "  from ._min_spanning_tree import minimum_spanning_tree\n",
      "/home/yoda/tensorflow-1.9.0/local/lib/python2.7/site-packages/scipy/sparse/csgraph/__init__.py:170: RuntimeWarning: numpy.dtype size changed, may indicate binary incompatibility. Expected 96, got 88\n",
      "  from ._reordering import reverse_cuthill_mckee, maximum_bipartite_matching, \\\n",
      "/home/yoda/tensorflow-1.9.0/local/lib/python2.7/site-packages/scipy/spatial/__init__.py:95: RuntimeWarning: numpy.dtype size changed, may indicate binary incompatibility. Expected 96, got 88\n",
      "  from .ckdtree import *\n",
      "/home/yoda/tensorflow-1.9.0/local/lib/python2.7/site-packages/scipy/spatial/__init__.py:96: RuntimeWarning: numpy.dtype size changed, may indicate binary incompatibility. Expected 96, got 88\n",
      "  from .qhull import *\n",
      "/home/yoda/tensorflow-1.9.0/local/lib/python2.7/site-packages/scipy/spatial/_spherical_voronoi.py:18: RuntimeWarning: numpy.dtype size changed, may indicate binary incompatibility. Expected 96, got 88\n",
      "  from . import _voronoi\n",
      "/home/yoda/tensorflow-1.9.0/local/lib/python2.7/site-packages/scipy/spatial/distance.py:122: RuntimeWarning: numpy.dtype size changed, may indicate binary incompatibility. Expected 96, got 88\n",
      "  from . import _hausdorff\n",
      "/home/yoda/tensorflow-1.9.0/local/lib/python2.7/site-packages/scipy/optimize/_trlib/__init__.py:1: RuntimeWarning: numpy.dtype size changed, may indicate binary incompatibility. Expected 96, got 88\n",
      "  from ._trlib import TRLIBQuadraticSubproblem\n",
      "/home/yoda/tensorflow-1.9.0/local/lib/python2.7/site-packages/scipy/optimize/_numdiff.py:10: RuntimeWarning: numpy.dtype size changed, may indicate binary incompatibility. Expected 96, got 88\n",
      "  from ._group_columns import group_dense, group_sparse\n",
      "/home/yoda/tensorflow-1.9.0/local/lib/python2.7/site-packages/scipy/stats/_continuous_distns.py:18: RuntimeWarning: numpy.dtype size changed, may indicate binary incompatibility. Expected 96, got 88\n",
      "  from . import _stats\n",
      "/home/yoda/tensorflow-1.9.0/local/lib/python2.7/site-packages/scipy/cluster/vq.py:78: RuntimeWarning: numpy.dtype size changed, may indicate binary incompatibility. Expected 96, got 88\n",
      "  from . import _vq\n",
      "/home/yoda/tensorflow-1.9.0/local/lib/python2.7/site-packages/scipy/cluster/hierarchy.py:178: RuntimeWarning: numpy.dtype size changed, may indicate binary incompatibility. Expected 96, got 88\n",
      "  from . import _hierarchy, _optimal_leaf_ordering\n"
     ]
    }
   ],
   "source": [
    "import pandas as pd\n",
    "import numpy as np\n",
    "import matplotlib.pyplot as plt\n",
    "import math\n",
    "import seaborn as sns\n",
    "%matplotlib inline\n",
    "import os\n",
    "import cv2"
   ]
  },
  {
   "cell_type": "markdown",
   "metadata": {},
   "source": [
    "### Read csv\n",
    "a csv was made from xml file."
   ]
  },
  {
   "cell_type": "code",
   "execution_count": 2,
   "metadata": {},
   "outputs": [
    {
     "data": {
      "text/html": [
       "<div>\n",
       "<style scoped>\n",
       "    .dataframe tbody tr th:only-of-type {\n",
       "        vertical-align: middle;\n",
       "    }\n",
       "\n",
       "    .dataframe tbody tr th {\n",
       "        vertical-align: top;\n",
       "    }\n",
       "\n",
       "    .dataframe thead th {\n",
       "        text-align: right;\n",
       "    }\n",
       "</style>\n",
       "<table border=\"1\" class=\"dataframe\">\n",
       "  <thead>\n",
       "    <tr style=\"text-align: right;\">\n",
       "      <th></th>\n",
       "      <th>filename</th>\n",
       "      <th>width</th>\n",
       "      <th>height</th>\n",
       "      <th>class</th>\n",
       "      <th>xmin</th>\n",
       "      <th>ymin</th>\n",
       "      <th>xmax</th>\n",
       "      <th>ymax</th>\n",
       "    </tr>\n",
       "  </thead>\n",
       "  <tbody>\n",
       "    <tr>\n",
       "      <th>0</th>\n",
       "      <td>IMG_2464.JPG</td>\n",
       "      <td>378</td>\n",
       "      <td>504</td>\n",
       "      <td>king</td>\n",
       "      <td>27</td>\n",
       "      <td>85</td>\n",
       "      <td>174</td>\n",
       "      <td>261</td>\n",
       "    </tr>\n",
       "    <tr>\n",
       "      <th>1</th>\n",
       "      <td>IMG_2590.JPG</td>\n",
       "      <td>378</td>\n",
       "      <td>504</td>\n",
       "      <td>nine</td>\n",
       "      <td>185</td>\n",
       "      <td>89</td>\n",
       "      <td>276</td>\n",
       "      <td>215</td>\n",
       "    </tr>\n",
       "    <tr>\n",
       "      <th>2</th>\n",
       "      <td>IMG_2590.JPG</td>\n",
       "      <td>378</td>\n",
       "      <td>504</td>\n",
       "      <td>nine</td>\n",
       "      <td>29</td>\n",
       "      <td>332</td>\n",
       "      <td>159</td>\n",
       "      <td>440</td>\n",
       "    </tr>\n",
       "    <tr>\n",
       "      <th>3</th>\n",
       "      <td>IMG_2590.JPG</td>\n",
       "      <td>378</td>\n",
       "      <td>504</td>\n",
       "      <td>jack</td>\n",
       "      <td>83</td>\n",
       "      <td>143</td>\n",
       "      <td>216</td>\n",
       "      <td>269</td>\n",
       "    </tr>\n",
       "    <tr>\n",
       "      <th>4</th>\n",
       "      <td>IMG_2590.JPG</td>\n",
       "      <td>378</td>\n",
       "      <td>504</td>\n",
       "      <td>queen</td>\n",
       "      <td>189</td>\n",
       "      <td>289</td>\n",
       "      <td>332</td>\n",
       "      <td>416</td>\n",
       "    </tr>\n",
       "  </tbody>\n",
       "</table>\n",
       "</div>"
      ],
      "text/plain": [
       "       filename  width  height  class  xmin  ymin  xmax  ymax\n",
       "0  IMG_2464.JPG    378     504   king    27    85   174   261\n",
       "1  IMG_2590.JPG    378     504   nine   185    89   276   215\n",
       "2  IMG_2590.JPG    378     504   nine    29   332   159   440\n",
       "3  IMG_2590.JPG    378     504   jack    83   143   216   269\n",
       "4  IMG_2590.JPG    378     504  queen   189   289   332   416"
      ]
     },
     "execution_count": 2,
     "metadata": {},
     "output_type": "execute_result"
    }
   ],
   "source": [
    "data = pd.read_csv('train_labels.csv')\n",
    "data.head()"
   ]
  },
  {
   "cell_type": "code",
   "execution_count": 3,
   "metadata": {},
   "outputs": [
    {
     "name": "stdout",
     "output_type": "stream",
     "text": [
      "Total number of images :  296\n"
     ]
    }
   ],
   "source": [
    "print 'Total number of images : ', data[\"filename\"].nunique()"
   ]
  },
  {
   "cell_type": "code",
   "execution_count": 4,
   "metadata": {},
   "outputs": [],
   "source": [
    "def change_to_xywh (data):\n",
    "    data[\"x\"] = data['xmin']\n",
    "    data[\"y\"] = data['ymin']\n",
    "    data['w'] = data['xmax'] - data['xmin'] + 1\n",
    "    data['h'] = data['ymax'] - data['ymin'] + 1\n",
    "    data[\"ar\"] = data[\"w\"]/data[\"h\"]\n",
    "    \n",
    "    return data"
   ]
  },
  {
   "cell_type": "code",
   "execution_count": 5,
   "metadata": {},
   "outputs": [
    {
     "name": "stderr",
     "output_type": "stream",
     "text": [
      "/home/yoda/tensorflow-1.9.0/local/lib/python2.7/site-packages/pandas/core/computation/check.py:17: UserWarning: The installed version of numexpr 2.4 is not supported in pandas and will be not be used\n",
      "The minimum supported version is 2.4.6\n",
      "\n",
      "  ver=ver, min_ver=_MIN_NUMEXPR_VERSION), UserWarning)\n"
     ]
    },
    {
     "data": {
      "text/html": [
       "<div>\n",
       "<style scoped>\n",
       "    .dataframe tbody tr th:only-of-type {\n",
       "        vertical-align: middle;\n",
       "    }\n",
       "\n",
       "    .dataframe tbody tr th {\n",
       "        vertical-align: top;\n",
       "    }\n",
       "\n",
       "    .dataframe thead th {\n",
       "        text-align: right;\n",
       "    }\n",
       "</style>\n",
       "<table border=\"1\" class=\"dataframe\">\n",
       "  <thead>\n",
       "    <tr style=\"text-align: right;\">\n",
       "      <th></th>\n",
       "      <th>filename</th>\n",
       "      <th>width</th>\n",
       "      <th>height</th>\n",
       "      <th>class</th>\n",
       "      <th>xmin</th>\n",
       "      <th>ymin</th>\n",
       "      <th>xmax</th>\n",
       "      <th>ymax</th>\n",
       "      <th>x</th>\n",
       "      <th>y</th>\n",
       "      <th>w</th>\n",
       "      <th>h</th>\n",
       "      <th>ar</th>\n",
       "    </tr>\n",
       "  </thead>\n",
       "  <tbody>\n",
       "    <tr>\n",
       "      <th>0</th>\n",
       "      <td>IMG_2464.JPG</td>\n",
       "      <td>378</td>\n",
       "      <td>504</td>\n",
       "      <td>king</td>\n",
       "      <td>27</td>\n",
       "      <td>85</td>\n",
       "      <td>174</td>\n",
       "      <td>261</td>\n",
       "      <td>27</td>\n",
       "      <td>85</td>\n",
       "      <td>148</td>\n",
       "      <td>177</td>\n",
       "      <td>0.836158</td>\n",
       "    </tr>\n",
       "    <tr>\n",
       "      <th>1</th>\n",
       "      <td>IMG_2590.JPG</td>\n",
       "      <td>378</td>\n",
       "      <td>504</td>\n",
       "      <td>nine</td>\n",
       "      <td>185</td>\n",
       "      <td>89</td>\n",
       "      <td>276</td>\n",
       "      <td>215</td>\n",
       "      <td>185</td>\n",
       "      <td>89</td>\n",
       "      <td>92</td>\n",
       "      <td>127</td>\n",
       "      <td>0.724409</td>\n",
       "    </tr>\n",
       "    <tr>\n",
       "      <th>2</th>\n",
       "      <td>IMG_2590.JPG</td>\n",
       "      <td>378</td>\n",
       "      <td>504</td>\n",
       "      <td>nine</td>\n",
       "      <td>29</td>\n",
       "      <td>332</td>\n",
       "      <td>159</td>\n",
       "      <td>440</td>\n",
       "      <td>29</td>\n",
       "      <td>332</td>\n",
       "      <td>131</td>\n",
       "      <td>109</td>\n",
       "      <td>1.201835</td>\n",
       "    </tr>\n",
       "    <tr>\n",
       "      <th>3</th>\n",
       "      <td>IMG_2590.JPG</td>\n",
       "      <td>378</td>\n",
       "      <td>504</td>\n",
       "      <td>jack</td>\n",
       "      <td>83</td>\n",
       "      <td>143</td>\n",
       "      <td>216</td>\n",
       "      <td>269</td>\n",
       "      <td>83</td>\n",
       "      <td>143</td>\n",
       "      <td>134</td>\n",
       "      <td>127</td>\n",
       "      <td>1.055118</td>\n",
       "    </tr>\n",
       "    <tr>\n",
       "      <th>4</th>\n",
       "      <td>IMG_2590.JPG</td>\n",
       "      <td>378</td>\n",
       "      <td>504</td>\n",
       "      <td>queen</td>\n",
       "      <td>189</td>\n",
       "      <td>289</td>\n",
       "      <td>332</td>\n",
       "      <td>416</td>\n",
       "      <td>189</td>\n",
       "      <td>289</td>\n",
       "      <td>144</td>\n",
       "      <td>128</td>\n",
       "      <td>1.125000</td>\n",
       "    </tr>\n",
       "  </tbody>\n",
       "</table>\n",
       "</div>"
      ],
      "text/plain": [
       "       filename  width  height  class  xmin  ymin  xmax  ymax    x    y    w  \\\n",
       "0  IMG_2464.JPG    378     504   king    27    85   174   261   27   85  148   \n",
       "1  IMG_2590.JPG    378     504   nine   185    89   276   215  185   89   92   \n",
       "2  IMG_2590.JPG    378     504   nine    29   332   159   440   29  332  131   \n",
       "3  IMG_2590.JPG    378     504   jack    83   143   216   269   83  143  134   \n",
       "4  IMG_2590.JPG    378     504  queen   189   289   332   416  189  289  144   \n",
       "\n",
       "     h        ar  \n",
       "0  177  0.836158  \n",
       "1  127  0.724409  \n",
       "2  109  1.201835  \n",
       "3  127  1.055118  \n",
       "4  128  1.125000  "
      ]
     },
     "execution_count": 5,
     "metadata": {},
     "output_type": "execute_result"
    }
   ],
   "source": [
    "data = change_to_xywh(data)\n",
    "data.head()"
   ]
  },
  {
   "cell_type": "markdown",
   "metadata": {},
   "source": [
    "### Describe the dataset"
   ]
  },
  {
   "cell_type": "code",
   "execution_count": 7,
   "metadata": {},
   "outputs": [
    {
     "data": {
      "text/html": [
       "<div>\n",
       "<style scoped>\n",
       "    .dataframe tbody tr th:only-of-type {\n",
       "        vertical-align: middle;\n",
       "    }\n",
       "\n",
       "    .dataframe tbody tr th {\n",
       "        vertical-align: top;\n",
       "    }\n",
       "\n",
       "    .dataframe thead th {\n",
       "        text-align: right;\n",
       "    }\n",
       "</style>\n",
       "<table border=\"1\" class=\"dataframe\">\n",
       "  <thead>\n",
       "    <tr style=\"text-align: right;\">\n",
       "      <th></th>\n",
       "      <th>width</th>\n",
       "      <th>height</th>\n",
       "      <th>xmin</th>\n",
       "      <th>ymin</th>\n",
       "      <th>xmax</th>\n",
       "      <th>ymax</th>\n",
       "      <th>x</th>\n",
       "      <th>y</th>\n",
       "      <th>w</th>\n",
       "      <th>h</th>\n",
       "      <th>ar</th>\n",
       "    </tr>\n",
       "  </thead>\n",
       "  <tbody>\n",
       "    <tr>\n",
       "      <th>count</th>\n",
       "      <td>527.000000</td>\n",
       "      <td>527.000000</td>\n",
       "      <td>527.000000</td>\n",
       "      <td>527.000000</td>\n",
       "      <td>527.000000</td>\n",
       "      <td>527.000000</td>\n",
       "      <td>527.000000</td>\n",
       "      <td>527.000000</td>\n",
       "      <td>527.000000</td>\n",
       "      <td>527.000000</td>\n",
       "      <td>527.000000</td>\n",
       "    </tr>\n",
       "    <tr>\n",
       "      <th>mean</th>\n",
       "      <td>480.182163</td>\n",
       "      <td>508.952562</td>\n",
       "      <td>161.091082</td>\n",
       "      <td>169.635674</td>\n",
       "      <td>308.554080</td>\n",
       "      <td>357.265655</td>\n",
       "      <td>161.091082</td>\n",
       "      <td>169.635674</td>\n",
       "      <td>148.462998</td>\n",
       "      <td>188.629981</td>\n",
       "      <td>0.824470</td>\n",
       "    </tr>\n",
       "    <tr>\n",
       "      <th>std</th>\n",
       "      <td>221.004063</td>\n",
       "      <td>22.680363</td>\n",
       "      <td>131.068885</td>\n",
       "      <td>87.936224</td>\n",
       "      <td>146.202463</td>\n",
       "      <td>92.654976</td>\n",
       "      <td>131.068885</td>\n",
       "      <td>87.936224</td>\n",
       "      <td>44.945532</td>\n",
       "      <td>57.973884</td>\n",
       "      <td>0.259569</td>\n",
       "    </tr>\n",
       "    <tr>\n",
       "      <th>min</th>\n",
       "      <td>378.000000</td>\n",
       "      <td>270.000000</td>\n",
       "      <td>1.000000</td>\n",
       "      <td>1.000000</td>\n",
       "      <td>56.000000</td>\n",
       "      <td>93.000000</td>\n",
       "      <td>1.000000</td>\n",
       "      <td>1.000000</td>\n",
       "      <td>43.000000</td>\n",
       "      <td>60.000000</td>\n",
       "      <td>0.296137</td>\n",
       "    </tr>\n",
       "    <tr>\n",
       "      <th>25%</th>\n",
       "      <td>378.000000</td>\n",
       "      <td>504.000000</td>\n",
       "      <td>69.000000</td>\n",
       "      <td>104.500000</td>\n",
       "      <td>206.500000</td>\n",
       "      <td>287.500000</td>\n",
       "      <td>69.000000</td>\n",
       "      <td>104.500000</td>\n",
       "      <td>115.000000</td>\n",
       "      <td>143.500000</td>\n",
       "      <td>0.724282</td>\n",
       "    </tr>\n",
       "    <tr>\n",
       "      <th>50%</th>\n",
       "      <td>378.000000</td>\n",
       "      <td>504.000000</td>\n",
       "      <td>124.000000</td>\n",
       "      <td>172.000000</td>\n",
       "      <td>279.000000</td>\n",
       "      <td>372.000000</td>\n",
       "      <td>124.000000</td>\n",
       "      <td>172.000000</td>\n",
       "      <td>149.000000</td>\n",
       "      <td>188.000000</td>\n",
       "      <td>0.773869</td>\n",
       "    </tr>\n",
       "    <tr>\n",
       "      <th>75%</th>\n",
       "      <td>378.000000</td>\n",
       "      <td>504.000000</td>\n",
       "      <td>208.000000</td>\n",
       "      <td>234.000000</td>\n",
       "      <td>346.500000</td>\n",
       "      <td>424.500000</td>\n",
       "      <td>208.000000</td>\n",
       "      <td>234.000000</td>\n",
       "      <td>176.000000</td>\n",
       "      <td>231.000000</td>\n",
       "      <td>0.889113</td>\n",
       "    </tr>\n",
       "    <tr>\n",
       "      <th>max</th>\n",
       "      <td>960.000000</td>\n",
       "      <td>540.000000</td>\n",
       "      <td>749.000000</td>\n",
       "      <td>443.000000</td>\n",
       "      <td>928.000000</td>\n",
       "      <td>540.000000</td>\n",
       "      <td>749.000000</td>\n",
       "      <td>443.000000</td>\n",
       "      <td>315.000000</td>\n",
       "      <td>352.000000</td>\n",
       "      <td>2.822581</td>\n",
       "    </tr>\n",
       "  </tbody>\n",
       "</table>\n",
       "</div>"
      ],
      "text/plain": [
       "            width      height        xmin        ymin        xmax        ymax  \\\n",
       "count  527.000000  527.000000  527.000000  527.000000  527.000000  527.000000   \n",
       "mean   480.182163  508.952562  161.091082  169.635674  308.554080  357.265655   \n",
       "std    221.004063   22.680363  131.068885   87.936224  146.202463   92.654976   \n",
       "min    378.000000  270.000000    1.000000    1.000000   56.000000   93.000000   \n",
       "25%    378.000000  504.000000   69.000000  104.500000  206.500000  287.500000   \n",
       "50%    378.000000  504.000000  124.000000  172.000000  279.000000  372.000000   \n",
       "75%    378.000000  504.000000  208.000000  234.000000  346.500000  424.500000   \n",
       "max    960.000000  540.000000  749.000000  443.000000  928.000000  540.000000   \n",
       "\n",
       "                x           y           w           h          ar  \n",
       "count  527.000000  527.000000  527.000000  527.000000  527.000000  \n",
       "mean   161.091082  169.635674  148.462998  188.629981    0.824470  \n",
       "std    131.068885   87.936224   44.945532   57.973884    0.259569  \n",
       "min      1.000000    1.000000   43.000000   60.000000    0.296137  \n",
       "25%     69.000000  104.500000  115.000000  143.500000    0.724282  \n",
       "50%    124.000000  172.000000  149.000000  188.000000    0.773869  \n",
       "75%    208.000000  234.000000  176.000000  231.000000    0.889113  \n",
       "max    749.000000  443.000000  315.000000  352.000000    2.822581  "
      ]
     },
     "execution_count": 7,
     "metadata": {},
     "output_type": "execute_result"
    }
   ],
   "source": [
    "data.describe()"
   ]
  },
  {
   "cell_type": "markdown",
   "metadata": {},
   "source": [
    "## Find the optimum base anchor size\n",
    "To find the best anchor size which will capture most of the object"
   ]
  },
  {
   "cell_type": "code",
   "execution_count": 8,
   "metadata": {},
   "outputs": [
    {
     "data": {
      "text/plain": [
       "<seaborn.axisgrid.JointGrid at 0x7f8c9ebf41d0>"
      ]
     },
     "execution_count": 8,
     "metadata": {},
     "output_type": "execute_result"
    },
    {
     "data": {
      "image/png": "[encoded data removed]",
      "text/plain": [
       "<Figure size 432x432 with 3 Axes>"
      ]
     },
     "metadata": {},
     "output_type": "display_data"
    },
    {
     "data": {
      "image/png": "[encoded data removed]",
      "text/plain": [
       "<Figure size 432x432 with 3 Axes>"
      ]
     },
     "metadata": {},
     "output_type": "display_data"
    }
   ],
   "source": [
    "#Joint Plot of w and h\n",
    "sns.jointplot(x=\"w\", y=\"h\", data=data)\n",
    "sns.jointplot(x=\"w\", y=\"h\", data=data, kind='kde')"
   ]
  },
  {
   "cell_type": "code",
   "execution_count": 14,
   "metadata": {},
   "outputs": [],
   "source": [
    "def count_base_size(width, height, input_array=[64,96,128,196,212,256,512]):\n",
    "    result = {}\n",
    "    for ele in input_array:\n",
    "        result[str(ele)] = 0\n",
    "    result['rest'] = 0\n",
    "    \n",
    "    import itertools\n",
    "    for w,h in itertools.izip(width,height):\n",
    "        done = False\n",
    "        for inp in input_array:\n",
    "            if w <= inp and h <= inp:\n",
    "                result[str(inp)] += 1\n",
    "                done = True\n",
    "        if done == False:\n",
    "            result['rest'] += 1\n",
    "            \n",
    "    return result\n",
    "    \n",
    "    "
   ]
  },
  {
   "cell_type": "code",
   "execution_count": 10,
   "metadata": {},
   "outputs": [],
   "source": [
    "D = count_base_size(data[\"w\"].tolist(), data[\"h\"].tolist())\n",
    "import collections\n",
    "OD = collections.OrderedDict(sorted(D.items()))\n"
   ]
  },
  {
   "cell_type": "markdown",
   "metadata": {},
   "source": [
    "### Bar graph"
   ]
  },
  {
   "cell_type": "code",
   "execution_count": 11,
   "metadata": {},
   "outputs": [
    {
     "data": {
      "image/png": "[encoded data removed]",
      "text/plain": [
       "<Figure size 432x288 with 1 Axes>"
      ]
     },
     "metadata": {},
     "output_type": "display_data"
    }
   ],
   "source": [
    "plt.bar(range(len(OD)), OD.values(), align='center')  # python 2.x\n",
    "plt.xticks(range(len(OD)), OD.keys())  # in python 2.x\n",
    "\n",
    "plt.show()"
   ]
  },
  {
   "cell_type": "code",
   "execution_count": 12,
   "metadata": {},
   "outputs": [
    {
     "name": "stdout",
     "output_type": "stream",
     "text": [
      "OrderedDict([('128', 61), ('196', 289), ('212', 334), ('256', 459), ('512', 527), ('64', 0), ('96', 6), ('rest', 0)])\n"
     ]
    }
   ],
   "source": [
    "print OD"
   ]
  },
  {
   "cell_type": "markdown",
   "metadata": {},
   "source": [
    "### K-Means"
   ]
  },
  {
   "cell_type": "code",
   "execution_count": 13,
   "metadata": {},
   "outputs": [],
   "source": [
    "#utility functions for K-means\n",
    "import numpy as np\n",
    "\n",
    "\n",
    "def iou(box, clusters):\n",
    "    \"\"\"\n",
    "    Calculates the Intersection over Union (IoU) between a box and k clusters.\n",
    "    :param box: tuple or array, shifted to the origin (i. e. width and height)\n",
    "    :param clusters: numpy array of shape (k, 2) where k is the number of clusters\n",
    "    :return: numpy array of shape (k, 0) where k is the number of clusters\n",
    "    \"\"\"\n",
    "    x = np.minimum(clusters[:, 0], box[0])\n",
    "    y = np.minimum(clusters[:, 1], box[1])\n",
    "    if np.count_nonzero(x == 0) > 0 or np.count_nonzero(y == 0) > 0:\n",
    "        raise ValueError(\"Box has no area\")\n",
    "\n",
    "    intersection = x * y\n",
    "    box_area = box[0] * box[1]\n",
    "    cluster_area = clusters[:, 0] * clusters[:, 1]\n",
    "\n",
    "    iou_ = intersection / (box_area + cluster_area - intersection)\n",
    "\n",
    "    return iou_\n",
    "\n",
    "\n",
    "def avg_iou(boxes, clusters):\n",
    "    \"\"\"\n",
    "    Calculates the average Intersection over Union (IoU) between a numpy array of boxes and k clusters.\n",
    "    :param boxes: numpy array of shape (r, 2), where r is the number of rows\n",
    "    :param clusters: numpy array of shape (k, 2) where k is the number of clusters\n",
    "    :return: average IoU as a single float\n",
    "    \"\"\"\n",
    "    return np.mean([np.max(iou(boxes[i], clusters)) for i in range(boxes.shape[0])])\n",
    "\n",
    "\n",
    "def translate_boxes(boxes):\n",
    "    \"\"\"\n",
    "    Translates all the boxes to the origin.\n",
    "    :param boxes: numpy array of shape (r, 4)\n",
    "    :return: numpy array of shape (r, 2)\n",
    "    \"\"\"\n",
    "    new_boxes = boxes.copy()\n",
    "    for row in range(new_boxes.shape[0]):\n",
    "        new_boxes[row][2] = np.abs(new_boxes[row][2] - new_boxes[row][0])\n",
    "        new_boxes[row][3] = np.abs(new_boxes[row][3] - new_boxes[row][1])\n",
    "    return np.delete(new_boxes, [0, 1], axis=1)\n",
    "\n",
    "\n",
    "def kmeans(boxes, k, dist=np.median):\n",
    "    \"\"\"\n",
    "    Calculates k-means clustering with the Intersection over Union (IoU) metric.\n",
    "    :param boxes: numpy array of shape (r, 2), where r is the number of rows\n",
    "    :param k: number of clusters\n",
    "    :param dist: distance function\n",
    "    :return: numpy array of shape (k, 2)\n",
    "    \"\"\"\n",
    "    rows = boxes.shape[0]\n",
    "\n",
    "    distances = np.empty((rows, k))\n",
    "    last_clusters = np.zeros((rows,))\n",
    "\n",
    "    np.random.seed()\n",
    "\n",
    "    # the Forgy method will fail if the whole array contains the same rows\n",
    "    clusters = boxes[np.random.choice(rows, k, replace=False)]\n",
    "\n",
    "    while True:\n",
    "        for row in range(rows):\n",
    "            distances[row] = 1 - iou(boxes[row], clusters)\n",
    "\n",
    "        nearest_clusters = np.argmin(distances, axis=1)\n",
    "\n",
    "        if (last_clusters == nearest_clusters).all():\n",
    "            break\n",
    "\n",
    "        for cluster in range(k):\n",
    "            clusters[cluster] = dist(boxes[nearest_clusters == cluster], axis=0)\n",
    "\n",
    "        last_clusters = nearest_clusters\n",
    "\n",
    "    return clusters\n"
   ]
  },
  {
   "cell_type": "markdown",
   "metadata": {},
   "source": [
    "#Test"
   ]
  },
  {
   "cell_type": "code",
   "execution_count": 125,
   "metadata": {},
   "outputs": [
    {
     "name": "stdout",
     "output_type": "stream",
     "text": [
      "Index([u'w_norm', u'h_norm'], dtype='object')\n",
      "[[0.39153439 0.35119048]\n",
      " [0.24338624 0.25198413]\n",
      " [0.34656085 0.21626984]\n",
      " ...\n",
      " [0.30952381 0.1765873 ]\n",
      " [0.3015873  0.16269841]\n",
      " [0.30687831 0.17063492]]\n"
     ]
    },
    {
     "name": "stderr",
     "output_type": "stream",
     "text": [
      "/home/yoda/tensorflow-1.9.0/lib/python2.7/site-packages/ipykernel_launcher.py:5: FutureWarning: Method .as_matrix will be removed in a future version. Use .values instead.\n",
      "  \"\"\"\n"
     ]
    }
   ],
   "source": [
    "data['w_norm'] = data['w']/data['width']\n",
    "data['h_norm'] = data['h']/data['height']\n",
    "\n",
    "print data.columns[14:16]\n",
    "data1 = data.as_matrix(columns=data.columns[14:16])\n",
    "print data1"
   ]
  },
  {
   "cell_type": "code",
   "execution_count": 132,
   "metadata": {},
   "outputs": [
    {
     "name": "stdout",
     "output_type": "stream",
     "text": [
      "Accuracy: 82.75%\n",
      "Boxes:\n",
      " [[0.1859375  0.4212963 ]\n",
      " [0.32804233 0.28571429]\n",
      " [0.24338624 0.5037037 ]\n",
      " [0.51851852 0.49603175]\n",
      " [0.25396825 0.20833333]\n",
      " [0.44444444 0.36011905]\n",
      " [0.37037037 0.38293651]]\n",
      "[0.44134615 1.14814815 0.48319328 1.04533333 1.21904762 1.23415978\n",
      " 0.9671848 ]\n"
     ]
    }
   ],
   "source": [
    "CLUSTERS = 7\n",
    "out = kmeans(data1, k=CLUSTERS)\n",
    "print(\"Accuracy: {:.2f}%\".format(avg_iou(data1, out) * 100))\n",
    "print(\"Boxes:\\n {}\".format(out))\n",
    "\n",
    "\n",
    "ratios = out[:,0]/out[:,1]\n",
    "print ratios\n"
   ]
  },
  {
   "cell_type": "code",
   "execution_count": 72,
   "metadata": {},
   "outputs": [
    {
     "data": {
      "text/html": [
       "<div>\n",
       "<style scoped>\n",
       "    .dataframe tbody tr th:only-of-type {\n",
       "        vertical-align: middle;\n",
       "    }\n",
       "\n",
       "    .dataframe tbody tr th {\n",
       "        vertical-align: top;\n",
       "    }\n",
       "\n",
       "    .dataframe thead th {\n",
       "        text-align: right;\n",
       "    }\n",
       "</style>\n",
       "<table border=\"1\" class=\"dataframe\">\n",
       "  <thead>\n",
       "    <tr style=\"text-align: right;\">\n",
       "      <th></th>\n",
       "      <th>width</th>\n",
       "      <th>height</th>\n",
       "      <th>xmin</th>\n",
       "      <th>ymin</th>\n",
       "      <th>xmax</th>\n",
       "      <th>ymax</th>\n",
       "      <th>x</th>\n",
       "      <th>y</th>\n",
       "      <th>w</th>\n",
       "      <th>h</th>\n",
       "      <th>ar</th>\n",
       "      <th>scale</th>\n",
       "    </tr>\n",
       "  </thead>\n",
       "  <tbody>\n",
       "    <tr>\n",
       "      <th>count</th>\n",
       "      <td>527.000000</td>\n",
       "      <td>527.000000</td>\n",
       "      <td>527.000000</td>\n",
       "      <td>527.000000</td>\n",
       "      <td>527.000000</td>\n",
       "      <td>527.000000</td>\n",
       "      <td>527.000000</td>\n",
       "      <td>527.000000</td>\n",
       "      <td>527.000000</td>\n",
       "      <td>527.000000</td>\n",
       "      <td>527.000000</td>\n",
       "      <td>527.000000</td>\n",
       "    </tr>\n",
       "    <tr>\n",
       "      <th>mean</th>\n",
       "      <td>480.182163</td>\n",
       "      <td>508.952562</td>\n",
       "      <td>161.091082</td>\n",
       "      <td>169.635674</td>\n",
       "      <td>308.554080</td>\n",
       "      <td>357.265655</td>\n",
       "      <td>161.091082</td>\n",
       "      <td>169.635674</td>\n",
       "      <td>148.462998</td>\n",
       "      <td>188.629981</td>\n",
       "      <td>0.824470</td>\n",
       "      <td>0.773508</td>\n",
       "    </tr>\n",
       "    <tr>\n",
       "      <th>std</th>\n",
       "      <td>221.004063</td>\n",
       "      <td>22.680363</td>\n",
       "      <td>131.068885</td>\n",
       "      <td>87.936224</td>\n",
       "      <td>146.202463</td>\n",
       "      <td>92.654976</td>\n",
       "      <td>131.068885</td>\n",
       "      <td>87.936224</td>\n",
       "      <td>44.945532</td>\n",
       "      <td>57.973884</td>\n",
       "      <td>0.259569</td>\n",
       "      <td>0.443329</td>\n",
       "    </tr>\n",
       "    <tr>\n",
       "      <th>min</th>\n",
       "      <td>378.000000</td>\n",
       "      <td>270.000000</td>\n",
       "      <td>1.000000</td>\n",
       "      <td>1.000000</td>\n",
       "      <td>56.000000</td>\n",
       "      <td>93.000000</td>\n",
       "      <td>1.000000</td>\n",
       "      <td>1.000000</td>\n",
       "      <td>43.000000</td>\n",
       "      <td>60.000000</td>\n",
       "      <td>0.296137</td>\n",
       "      <td>0.134918</td>\n",
       "    </tr>\n",
       "    <tr>\n",
       "      <th>25%</th>\n",
       "      <td>378.000000</td>\n",
       "      <td>504.000000</td>\n",
       "      <td>69.000000</td>\n",
       "      <td>104.500000</td>\n",
       "      <td>206.500000</td>\n",
       "      <td>287.500000</td>\n",
       "      <td>69.000000</td>\n",
       "      <td>104.500000</td>\n",
       "      <td>115.000000</td>\n",
       "      <td>143.500000</td>\n",
       "      <td>0.724282</td>\n",
       "      <td>0.452637</td>\n",
       "    </tr>\n",
       "    <tr>\n",
       "      <th>50%</th>\n",
       "      <td>378.000000</td>\n",
       "      <td>504.000000</td>\n",
       "      <td>124.000000</td>\n",
       "      <td>172.000000</td>\n",
       "      <td>279.000000</td>\n",
       "      <td>372.000000</td>\n",
       "      <td>124.000000</td>\n",
       "      <td>172.000000</td>\n",
       "      <td>149.000000</td>\n",
       "      <td>188.000000</td>\n",
       "      <td>0.773869</td>\n",
       "      <td>0.649729</td>\n",
       "    </tr>\n",
       "    <tr>\n",
       "      <th>75%</th>\n",
       "      <td>378.000000</td>\n",
       "      <td>504.000000</td>\n",
       "      <td>208.000000</td>\n",
       "      <td>234.000000</td>\n",
       "      <td>346.500000</td>\n",
       "      <td>424.500000</td>\n",
       "      <td>208.000000</td>\n",
       "      <td>234.000000</td>\n",
       "      <td>176.000000</td>\n",
       "      <td>231.000000</td>\n",
       "      <td>0.889113</td>\n",
       "      <td>1.020369</td>\n",
       "    </tr>\n",
       "    <tr>\n",
       "      <th>max</th>\n",
       "      <td>960.000000</td>\n",
       "      <td>540.000000</td>\n",
       "      <td>749.000000</td>\n",
       "      <td>443.000000</td>\n",
       "      <td>928.000000</td>\n",
       "      <td>540.000000</td>\n",
       "      <td>749.000000</td>\n",
       "      <td>443.000000</td>\n",
       "      <td>315.000000</td>\n",
       "      <td>352.000000</td>\n",
       "      <td>2.822581</td>\n",
       "      <td>2.845299</td>\n",
       "    </tr>\n",
       "  </tbody>\n",
       "</table>\n",
       "</div>"
      ],
      "text/plain": [
       "            width      height        xmin        ymin        xmax        ymax  \\\n",
       "count  527.000000  527.000000  527.000000  527.000000  527.000000  527.000000   \n",
       "mean   480.182163  508.952562  161.091082  169.635674  308.554080  357.265655   \n",
       "std    221.004063   22.680363  131.068885   87.936224  146.202463   92.654976   \n",
       "min    378.000000  270.000000    1.000000    1.000000   56.000000   93.000000   \n",
       "25%    378.000000  504.000000   69.000000  104.500000  206.500000  287.500000   \n",
       "50%    378.000000  504.000000  124.000000  172.000000  279.000000  372.000000   \n",
       "75%    378.000000  504.000000  208.000000  234.000000  346.500000  424.500000   \n",
       "max    960.000000  540.000000  749.000000  443.000000  928.000000  540.000000   \n",
       "\n",
       "                x           y           w           h          ar       scale  \n",
       "count  527.000000  527.000000  527.000000  527.000000  527.000000  527.000000  \n",
       "mean   161.091082  169.635674  148.462998  188.629981    0.824470    0.773508  \n",
       "std    131.068885   87.936224   44.945532   57.973884    0.259569    0.443329  \n",
       "min      1.000000    1.000000   43.000000   60.000000    0.296137    0.134918  \n",
       "25%     69.000000  104.500000  115.000000  143.500000    0.724282    0.452637  \n",
       "50%    124.000000  172.000000  149.000000  188.000000    0.773869    0.649729  \n",
       "75%    208.000000  234.000000  176.000000  231.000000    0.889113    1.020369  \n",
       "max    749.000000  443.000000  315.000000  352.000000    2.822581    2.845299  "
      ]
     },
     "execution_count": 72,
     "metadata": {},
     "output_type": "execute_result"
    }
   ],
   "source": [
    "base_box = 196*196\n",
    "data['scale'] = data['w']*data['h']/(base_box)\n",
    "data.describe()"
   ]
  },
  {
   "cell_type": "markdown",
   "metadata": {},
   "source": [
    "### Experiment 2"
   ]
  },
  {
   "cell_type": "code",
   "execution_count": 86,
   "metadata": {},
   "outputs": [
    {
     "name": "stdout",
     "output_type": "stream",
     "text": [
      "Index([u'ar', u'scale'], dtype='object')\n",
      "[[0.83615819 0.68190337]\n",
      " [0.72440945 0.30414411]\n",
      " [1.20183486 0.37169409]\n",
      " ...\n",
      " [1.31460674 0.27105893]\n",
      " [1.3902439  0.24333611]\n",
      " [1.34883721 0.25968347]]\n"
     ]
    },
    {
     "name": "stderr",
     "output_type": "stream",
     "text": [
      "/home/yoda/tensorflow-1.9.0/lib/python2.7/site-packages/ipykernel_launcher.py:2: FutureWarning: Method .as_matrix will be removed in a future version. Use .values instead.\n",
      "  \n"
     ]
    },
    {
     "data": {
      "image/png": "[encoded data removed]",
      "text/plain": [
       "<Figure size 432x288 with 1 Axes>"
      ]
     },
     "metadata": {},
     "output_type": "display_data"
    }
   ],
   "source": [
    "print data.columns[12:14]\n",
    "X = data.as_matrix(columns=data.columns[12:14])\n",
    "print X\n",
    "\n",
    "\n",
    "\n",
    "from sklearn.cluster import KMeans\n",
    "K = KMeans(4, random_state=0)\n",
    "labels = K.fit(X)\n",
    "plt.scatter(X[:, 0], X[:, 1], c=labels.labels_,\n",
    "            s=50, cmap='viridis');"
   ]
  },
  {
   "cell_type": "code",
   "execution_count": 87,
   "metadata": {},
   "outputs": [
    {
     "data": {
      "text/plain": [
       "array([[0.68566896, 0.46003078],\n",
       "       [0.78684081, 1.73446197],\n",
       "       [0.79607361, 0.9927303 ],\n",
       "       [1.25891568, 0.47614895]])"
      ]
     },
     "execution_count": 87,
     "metadata": {},
     "output_type": "execute_result"
    }
   ],
   "source": [
    "labels.cluster_centers_"
   ]
  },
  {
   "cell_type": "markdown",
   "metadata": {},
   "source": [
    "#### Spectral Clusterring"
   ]
  },
  {
   "cell_type": "code",
   "execution_count": 93,
   "metadata": {},
   "outputs": [
    {
     "data": {
      "image/png": "[encoded data removed]",
      "text/plain": [
       "<Figure size 432x288 with 1 Axes>"
      ]
     },
     "metadata": {},
     "output_type": "display_data"
    }
   ],
   "source": [
    "from sklearn.cluster import SpectralClustering\n",
    "model = SpectralClustering(n_clusters=3, affinity='nearest_neighbors',\n",
    "                           assign_labels='kmeans')\n",
    "labels1 = model.fit(X)\n",
    "plt.scatter(X[:, 0], X[:, 1], c=labels1.labels_,\n",
    "            s=50, cmap='viridis');"
   ]
  },
  {
   "cell_type": "markdown",
   "metadata": {},
   "source": [
    "## Experiment 3"
   ]
  },
  {
   "cell_type": "code",
   "execution_count": 135,
   "metadata": {},
   "outputs": [],
   "source": [
    "# 1 class AR\n",
    "X = data.iloc[:,12].values\n",
    "X = X.reshape(-1,1)\n",
    "\n",
    "\n",
    "\n",
    "from sklearn.cluster import KMeans\n",
    "K = KMeans(4, random_state=0)\n",
    "labels = K.fit(X)\n"
   ]
  },
  {
   "cell_type": "code",
   "execution_count": 136,
   "metadata": {},
   "outputs": [
    {
     "data": {
      "text/plain": [
       "array([[0.44523506],\n",
       "       [1.20418889],\n",
       "       [0.78297542],\n",
       "       [2.76931501]])"
      ]
     },
     "execution_count": 136,
     "metadata": {},
     "output_type": "execute_result"
    }
   ],
   "source": [
    "labels.cluster_centers_\n"
   ]
  },
  {
   "cell_type": "code",
   "execution_count": 133,
   "metadata": {},
   "outputs": [],
   "source": [
    "# 1 class Sclae\n",
    "X = data.iloc[:,13].values\n",
    "X = X.reshape(-1,1)\n",
    "\n",
    "\n",
    "\n",
    "from sklearn.cluster import KMeans\n",
    "K = KMeans(4, random_state=0)\n",
    "labels = K.fit(X)\n"
   ]
  },
  {
   "cell_type": "code",
   "execution_count": 134,
   "metadata": {},
   "outputs": [
    {
     "data": {
      "text/plain": [
       "array([[0.7633549 ],\n",
       "       [1.16150954],\n",
       "       [0.41050973],\n",
       "       [1.84055043]])"
      ]
     },
     "execution_count": 134,
     "metadata": {},
     "output_type": "execute_result"
    }
   ],
   "source": [
    "labels.cluster_centers_\n"
   ]
  },
  {
   "cell_type": "markdown",
   "metadata": {},
   "source": [
    "# With Image resizing"
   ]
  },
  {
   "cell_type": "code",
   "execution_count": 5,
   "metadata": {},
   "outputs": [],
   "source": [
    "data = pd.read_csv('train_labels.csv')\n",
    "def change_to_wh (data):\n",
    "    data['w'] = data['xmax'] - data['xmin'] + 1\n",
    "    data['h'] = data['ymax'] - data['ymin'] + 1\n",
    "    return data\n",
    "\n",
    "min_dimension = 600\n",
    "max_dimension = 1024\n",
    "\n",
    "def _compute_new_static_size(width, height, min_dimension, max_dimension):\n",
    "    orig_height = height\n",
    "    orig_width = width\n",
    "    orig_min_dim = min(orig_height, orig_width)\n",
    "  \n",
    "    # Calculates the larger of the possible sizes\n",
    "    large_scale_factor = min_dimension / float(orig_min_dim)\n",
    "      # Scaling orig_(height|width) by large_scale_factor will make the smaller\n",
    "      # dimension equal to min_dimension, save for floating point rounding errors.\n",
    "      # For reasonably-sized images, taking the nearest integer will reliably\n",
    "      # eliminate this error.\n",
    "    large_height = int(round(orig_height * large_scale_factor))\n",
    "    large_width = int(round(orig_width * large_scale_factor))\n",
    "    large_size = [large_height, large_width]\n",
    "    if max_dimension:\n",
    "    # Calculates the smaller of the possible sizes, use that if the larger\n",
    "    # is too big.\n",
    "        orig_max_dim = max(orig_height, orig_width)\n",
    "        small_scale_factor = max_dimension / float(orig_max_dim)\n",
    "    # Scaling orig_(height|width) by small_scale_factor will make the larger\n",
    "    # dimension equal to max_dimension, save for floating point rounding\n",
    "    # errors. For reasonably-sized images, taking the nearest integer will\n",
    "    # reliably eliminate this error.\n",
    "        small_height = int(round(orig_height * small_scale_factor))\n",
    "        small_width = int(round(orig_width * small_scale_factor))\n",
    "        small_size = [small_height, small_width]\n",
    "        new_size = large_size\n",
    "    if max(large_size) > max_dimension:\n",
    "        new_size = small_size\n",
    "    else:\n",
    "        new_size = large_size\n",
    "    \n",
    "    return new_size[1], new_size[0]\n",
    "\n",
    "\n",
    "\n",
    "\n",
    "\n"
   ]
  },
  {
   "cell_type": "code",
   "execution_count": 6,
   "metadata": {},
   "outputs": [
    {
     "data": {
      "text/html": [
       "<div>\n",
       "<style scoped>\n",
       "    .dataframe tbody tr th:only-of-type {\n",
       "        vertical-align: middle;\n",
       "    }\n",
       "\n",
       "    .dataframe tbody tr th {\n",
       "        vertical-align: top;\n",
       "    }\n",
       "\n",
       "    .dataframe thead th {\n",
       "        text-align: right;\n",
       "    }\n",
       "</style>\n",
       "<table border=\"1\" class=\"dataframe\">\n",
       "  <thead>\n",
       "    <tr style=\"text-align: right;\">\n",
       "      <th></th>\n",
       "      <th>width</th>\n",
       "      <th>height</th>\n",
       "      <th>xmin</th>\n",
       "      <th>ymin</th>\n",
       "      <th>xmax</th>\n",
       "      <th>ymax</th>\n",
       "    </tr>\n",
       "  </thead>\n",
       "  <tbody>\n",
       "    <tr>\n",
       "      <th>count</th>\n",
       "      <td>527.000000</td>\n",
       "      <td>527.000000</td>\n",
       "      <td>527.000000</td>\n",
       "      <td>527.000000</td>\n",
       "      <td>527.000000</td>\n",
       "      <td>527.000000</td>\n",
       "    </tr>\n",
       "    <tr>\n",
       "      <th>mean</th>\n",
       "      <td>480.182163</td>\n",
       "      <td>508.952562</td>\n",
       "      <td>161.091082</td>\n",
       "      <td>169.635674</td>\n",
       "      <td>308.554080</td>\n",
       "      <td>357.265655</td>\n",
       "    </tr>\n",
       "    <tr>\n",
       "      <th>std</th>\n",
       "      <td>221.004063</td>\n",
       "      <td>22.680363</td>\n",
       "      <td>131.068885</td>\n",
       "      <td>87.936224</td>\n",
       "      <td>146.202463</td>\n",
       "      <td>92.654976</td>\n",
       "    </tr>\n",
       "    <tr>\n",
       "      <th>min</th>\n",
       "      <td>378.000000</td>\n",
       "      <td>270.000000</td>\n",
       "      <td>1.000000</td>\n",
       "      <td>1.000000</td>\n",
       "      <td>56.000000</td>\n",
       "      <td>93.000000</td>\n",
       "    </tr>\n",
       "    <tr>\n",
       "      <th>25%</th>\n",
       "      <td>378.000000</td>\n",
       "      <td>504.000000</td>\n",
       "      <td>69.000000</td>\n",
       "      <td>104.500000</td>\n",
       "      <td>206.500000</td>\n",
       "      <td>287.500000</td>\n",
       "    </tr>\n",
       "    <tr>\n",
       "      <th>50%</th>\n",
       "      <td>378.000000</td>\n",
       "      <td>504.000000</td>\n",
       "      <td>124.000000</td>\n",
       "      <td>172.000000</td>\n",
       "      <td>279.000000</td>\n",
       "      <td>372.000000</td>\n",
       "    </tr>\n",
       "    <tr>\n",
       "      <th>75%</th>\n",
       "      <td>378.000000</td>\n",
       "      <td>504.000000</td>\n",
       "      <td>208.000000</td>\n",
       "      <td>234.000000</td>\n",
       "      <td>346.500000</td>\n",
       "      <td>424.500000</td>\n",
       "    </tr>\n",
       "    <tr>\n",
       "      <th>max</th>\n",
       "      <td>960.000000</td>\n",
       "      <td>540.000000</td>\n",
       "      <td>749.000000</td>\n",
       "      <td>443.000000</td>\n",
       "      <td>928.000000</td>\n",
       "      <td>540.000000</td>\n",
       "    </tr>\n",
       "  </tbody>\n",
       "</table>\n",
       "</div>"
      ],
      "text/plain": [
       "            width      height        xmin        ymin        xmax        ymax\n",
       "count  527.000000  527.000000  527.000000  527.000000  527.000000  527.000000\n",
       "mean   480.182163  508.952562  161.091082  169.635674  308.554080  357.265655\n",
       "std    221.004063   22.680363  131.068885   87.936224  146.202463   92.654976\n",
       "min    378.000000  270.000000    1.000000    1.000000   56.000000   93.000000\n",
       "25%    378.000000  504.000000   69.000000  104.500000  206.500000  287.500000\n",
       "50%    378.000000  504.000000  124.000000  172.000000  279.000000  372.000000\n",
       "75%    378.000000  504.000000  208.000000  234.000000  346.500000  424.500000\n",
       "max    960.000000  540.000000  749.000000  443.000000  928.000000  540.000000"
      ]
     },
     "execution_count": 6,
     "metadata": {},
     "output_type": "execute_result"
    }
   ],
   "source": [
    "data.describe()"
   ]
  },
  {
   "cell_type": "code",
   "execution_count": 7,
   "metadata": {},
   "outputs": [
    {
     "name": "stderr",
     "output_type": "stream",
     "text": [
      "/home/yoda/tensorflow-1.9.0/local/lib/python2.7/site-packages/pandas/core/computation/check.py:17: UserWarning: The installed version of numexpr 2.4 is not supported in pandas and will be not be used\n",
      "The minimum supported version is 2.4.6\n",
      "\n",
      "  ver=ver, min_ver=_MIN_NUMEXPR_VERSION), UserWarning)\n"
     ]
    }
   ],
   "source": [
    "data = change_to_wh(data)\n",
    "data['new_w'], data['new_h'] = np.vectorize(_compute_new_static_size)(data['width'], data['height'], min_dimension, max_dimension)"
   ]
  },
  {
   "cell_type": "code",
   "execution_count": 8,
   "metadata": {},
   "outputs": [],
   "source": [
    "data['b_w'] = data['new_w']*data['w']/data['width']\n",
    "data['b_h'] = data['new_h']*data['h']/data['height']\n",
    "data['b_ar'] = data['b_w']/data['b_h']"
   ]
  },
  {
   "cell_type": "code",
   "execution_count": 9,
   "metadata": {},
   "outputs": [
    {
     "data": {
      "text/html": [
       "<div>\n",
       "<style scoped>\n",
       "    .dataframe tbody tr th:only-of-type {\n",
       "        vertical-align: middle;\n",
       "    }\n",
       "\n",
       "    .dataframe tbody tr th {\n",
       "        vertical-align: top;\n",
       "    }\n",
       "\n",
       "    .dataframe thead th {\n",
       "        text-align: right;\n",
       "    }\n",
       "</style>\n",
       "<table border=\"1\" class=\"dataframe\">\n",
       "  <thead>\n",
       "    <tr style=\"text-align: right;\">\n",
       "      <th></th>\n",
       "      <th>width</th>\n",
       "      <th>height</th>\n",
       "      <th>xmin</th>\n",
       "      <th>ymin</th>\n",
       "      <th>xmax</th>\n",
       "      <th>ymax</th>\n",
       "      <th>w</th>\n",
       "      <th>h</th>\n",
       "      <th>new_w</th>\n",
       "      <th>new_h</th>\n",
       "      <th>b_w</th>\n",
       "      <th>b_h</th>\n",
       "      <th>b_ar</th>\n",
       "      <th>b_area_scale</th>\n",
       "    </tr>\n",
       "  </thead>\n",
       "  <tbody>\n",
       "    <tr>\n",
       "      <th>count</th>\n",
       "      <td>527.000000</td>\n",
       "      <td>527.000000</td>\n",
       "      <td>527.000000</td>\n",
       "      <td>527.000000</td>\n",
       "      <td>527.000000</td>\n",
       "      <td>527.000000</td>\n",
       "      <td>527.000000</td>\n",
       "      <td>527.000000</td>\n",
       "      <td>527.000000</td>\n",
       "      <td>527.000000</td>\n",
       "      <td>527.000000</td>\n",
       "      <td>527.000000</td>\n",
       "      <td>527.000000</td>\n",
       "      <td>527.000000</td>\n",
       "    </tr>\n",
       "    <tr>\n",
       "      <th>mean</th>\n",
       "      <td>480.182163</td>\n",
       "      <td>508.952562</td>\n",
       "      <td>161.091082</td>\n",
       "      <td>169.635674</td>\n",
       "      <td>308.554080</td>\n",
       "      <td>357.265655</td>\n",
       "      <td>148.462998</td>\n",
       "      <td>188.629981</td>\n",
       "      <td>676.432638</td>\n",
       "      <td>759.620493</td>\n",
       "      <td>218.338942</td>\n",
       "      <td>277.058739</td>\n",
       "      <td>0.824470</td>\n",
       "      <td>0.845913</td>\n",
       "    </tr>\n",
       "    <tr>\n",
       "      <th>std</th>\n",
       "      <td>221.004063</td>\n",
       "      <td>22.680363</td>\n",
       "      <td>131.068885</td>\n",
       "      <td>87.936224</td>\n",
       "      <td>146.202463</td>\n",
       "      <td>92.654976</td>\n",
       "      <td>44.945532</td>\n",
       "      <td>57.973884</td>\n",
       "      <td>163.144093</td>\n",
       "      <td>86.189332</td>\n",
       "      <td>61.497894</td>\n",
       "      <td>78.634511</td>\n",
       "      <td>0.259569</td>\n",
       "      <td>0.240934</td>\n",
       "    </tr>\n",
       "    <tr>\n",
       "      <th>min</th>\n",
       "      <td>378.000000</td>\n",
       "      <td>270.000000</td>\n",
       "      <td>1.000000</td>\n",
       "      <td>1.000000</td>\n",
       "      <td>56.000000</td>\n",
       "      <td>93.000000</td>\n",
       "      <td>43.000000</td>\n",
       "      <td>60.000000</td>\n",
       "      <td>600.000000</td>\n",
       "      <td>576.000000</td>\n",
       "      <td>68.253968</td>\n",
       "      <td>95.238095</td>\n",
       "      <td>0.296137</td>\n",
       "      <td>0.367312</td>\n",
       "    </tr>\n",
       "    <tr>\n",
       "      <th>25%</th>\n",
       "      <td>378.000000</td>\n",
       "      <td>504.000000</td>\n",
       "      <td>69.000000</td>\n",
       "      <td>104.500000</td>\n",
       "      <td>206.500000</td>\n",
       "      <td>287.500000</td>\n",
       "      <td>115.000000</td>\n",
       "      <td>143.500000</td>\n",
       "      <td>600.000000</td>\n",
       "      <td>800.000000</td>\n",
       "      <td>177.955556</td>\n",
       "      <td>224.603175</td>\n",
       "      <td>0.724282</td>\n",
       "      <td>0.672783</td>\n",
       "    </tr>\n",
       "    <tr>\n",
       "      <th>50%</th>\n",
       "      <td>378.000000</td>\n",
       "      <td>504.000000</td>\n",
       "      <td>124.000000</td>\n",
       "      <td>172.000000</td>\n",
       "      <td>279.000000</td>\n",
       "      <td>372.000000</td>\n",
       "      <td>149.000000</td>\n",
       "      <td>188.000000</td>\n",
       "      <td>600.000000</td>\n",
       "      <td>800.000000</td>\n",
       "      <td>210.133333</td>\n",
       "      <td>266.666667</td>\n",
       "      <td>0.773869</td>\n",
       "      <td>0.806058</td>\n",
       "    </tr>\n",
       "    <tr>\n",
       "      <th>75%</th>\n",
       "      <td>378.000000</td>\n",
       "      <td>504.000000</td>\n",
       "      <td>208.000000</td>\n",
       "      <td>234.000000</td>\n",
       "      <td>346.500000</td>\n",
       "      <td>424.500000</td>\n",
       "      <td>176.000000</td>\n",
       "      <td>231.000000</td>\n",
       "      <td>600.000000</td>\n",
       "      <td>800.000000</td>\n",
       "      <td>255.555556</td>\n",
       "      <td>323.015873</td>\n",
       "      <td>0.889113</td>\n",
       "      <td>1.010133</td>\n",
       "    </tr>\n",
       "    <tr>\n",
       "      <th>max</th>\n",
       "      <td>960.000000</td>\n",
       "      <td>540.000000</td>\n",
       "      <td>749.000000</td>\n",
       "      <td>443.000000</td>\n",
       "      <td>928.000000</td>\n",
       "      <td>540.000000</td>\n",
       "      <td>315.000000</td>\n",
       "      <td>352.000000</td>\n",
       "      <td>1024.000000</td>\n",
       "      <td>800.000000</td>\n",
       "      <td>441.269841</td>\n",
       "      <td>558.730159</td>\n",
       "      <td>2.822581</td>\n",
       "      <td>1.686801</td>\n",
       "    </tr>\n",
       "  </tbody>\n",
       "</table>\n",
       "</div>"
      ],
      "text/plain": [
       "            width      height        xmin        ymin        xmax        ymax  \\\n",
       "count  527.000000  527.000000  527.000000  527.000000  527.000000  527.000000   \n",
       "mean   480.182163  508.952562  161.091082  169.635674  308.554080  357.265655   \n",
       "std    221.004063   22.680363  131.068885   87.936224  146.202463   92.654976   \n",
       "min    378.000000  270.000000    1.000000    1.000000   56.000000   93.000000   \n",
       "25%    378.000000  504.000000   69.000000  104.500000  206.500000  287.500000   \n",
       "50%    378.000000  504.000000  124.000000  172.000000  279.000000  372.000000   \n",
       "75%    378.000000  504.000000  208.000000  234.000000  346.500000  424.500000   \n",
       "max    960.000000  540.000000  749.000000  443.000000  928.000000  540.000000   \n",
       "\n",
       "                w           h        new_w       new_h         b_w  \\\n",
       "count  527.000000  527.000000   527.000000  527.000000  527.000000   \n",
       "mean   148.462998  188.629981   676.432638  759.620493  218.338942   \n",
       "std     44.945532   57.973884   163.144093   86.189332   61.497894   \n",
       "min     43.000000   60.000000   600.000000  576.000000   68.253968   \n",
       "25%    115.000000  143.500000   600.000000  800.000000  177.955556   \n",
       "50%    149.000000  188.000000   600.000000  800.000000  210.133333   \n",
       "75%    176.000000  231.000000   600.000000  800.000000  255.555556   \n",
       "max    315.000000  352.000000  1024.000000  800.000000  441.269841   \n",
       "\n",
       "              b_h        b_ar  b_area_scale  \n",
       "count  527.000000  527.000000    527.000000  \n",
       "mean   277.058739    0.824470      0.845913  \n",
       "std     78.634511    0.259569      0.240934  \n",
       "min     95.238095    0.296137      0.367312  \n",
       "25%    224.603175    0.724282      0.672783  \n",
       "50%    266.666667    0.773869      0.806058  \n",
       "75%    323.015873    0.889113      1.010133  \n",
       "max    558.730159    2.822581      1.686801  "
      ]
     },
     "execution_count": 9,
     "metadata": {},
     "output_type": "execute_result"
    }
   ],
   "source": [
    "# Area Scale\n",
    "base_box = 196*196\n",
    "data['b_area_scale'] = (data['w']*data['h']/(base_box)).apply(np.sqrt)\n",
    "data.describe()"
   ]
  },
  {
   "cell_type": "code",
   "execution_count": 36,
   "metadata": {},
   "outputs": [],
   "source": [
    "# TF scale\n",
    "base_anchor = 196\n",
    "data['tf_scale'] = data['b_h']*(data['b_ar']).apply(np.sqrt)/base_anchor\n",
    "data['tf_scale_2']= data['b_w']/((data['b_ar']).apply(np.sqrt)*base_anchor)"
   ]
  },
  {
   "cell_type": "code",
   "execution_count": 37,
   "metadata": {},
   "outputs": [
    {
     "data": {
      "text/html": [
       "<div>\n",
       "<style scoped>\n",
       "    .dataframe tbody tr th:only-of-type {\n",
       "        vertical-align: middle;\n",
       "    }\n",
       "\n",
       "    .dataframe tbody tr th {\n",
       "        vertical-align: top;\n",
       "    }\n",
       "\n",
       "    .dataframe thead th {\n",
       "        text-align: right;\n",
       "    }\n",
       "</style>\n",
       "<table border=\"1\" class=\"dataframe\">\n",
       "  <thead>\n",
       "    <tr style=\"text-align: right;\">\n",
       "      <th></th>\n",
       "      <th>width</th>\n",
       "      <th>height</th>\n",
       "      <th>xmin</th>\n",
       "      <th>ymin</th>\n",
       "      <th>xmax</th>\n",
       "      <th>ymax</th>\n",
       "      <th>w</th>\n",
       "      <th>h</th>\n",
       "      <th>new_w</th>\n",
       "      <th>new_h</th>\n",
       "      <th>b_w</th>\n",
       "      <th>b_h</th>\n",
       "      <th>b_ar</th>\n",
       "      <th>b_area_scale</th>\n",
       "      <th>tf_scale</th>\n",
       "      <th>tf_scale_2</th>\n",
       "    </tr>\n",
       "  </thead>\n",
       "  <tbody>\n",
       "    <tr>\n",
       "      <th>count</th>\n",
       "      <td>527.000000</td>\n",
       "      <td>527.000000</td>\n",
       "      <td>527.000000</td>\n",
       "      <td>527.000000</td>\n",
       "      <td>527.000000</td>\n",
       "      <td>527.000000</td>\n",
       "      <td>527.000000</td>\n",
       "      <td>527.000000</td>\n",
       "      <td>527.000000</td>\n",
       "      <td>527.000000</td>\n",
       "      <td>527.000000</td>\n",
       "      <td>527.000000</td>\n",
       "      <td>527.000000</td>\n",
       "      <td>527.000000</td>\n",
       "      <td>527.000000</td>\n",
       "      <td>527.000000</td>\n",
       "    </tr>\n",
       "    <tr>\n",
       "      <th>mean</th>\n",
       "      <td>480.182163</td>\n",
       "      <td>508.952562</td>\n",
       "      <td>161.091082</td>\n",
       "      <td>169.635674</td>\n",
       "      <td>308.554080</td>\n",
       "      <td>357.265655</td>\n",
       "      <td>148.462998</td>\n",
       "      <td>188.629981</td>\n",
       "      <td>676.432638</td>\n",
       "      <td>759.620493</td>\n",
       "      <td>218.338942</td>\n",
       "      <td>277.058739</td>\n",
       "      <td>0.824470</td>\n",
       "      <td>0.845913</td>\n",
       "      <td>1.242386</td>\n",
       "      <td>1.242386</td>\n",
       "    </tr>\n",
       "    <tr>\n",
       "      <th>std</th>\n",
       "      <td>221.004063</td>\n",
       "      <td>22.680363</td>\n",
       "      <td>131.068885</td>\n",
       "      <td>87.936224</td>\n",
       "      <td>146.202463</td>\n",
       "      <td>92.654976</td>\n",
       "      <td>44.945532</td>\n",
       "      <td>57.973884</td>\n",
       "      <td>163.144093</td>\n",
       "      <td>86.189332</td>\n",
       "      <td>61.497894</td>\n",
       "      <td>78.634511</td>\n",
       "      <td>0.259569</td>\n",
       "      <td>0.240934</td>\n",
       "      <td>0.314987</td>\n",
       "      <td>0.314987</td>\n",
       "    </tr>\n",
       "    <tr>\n",
       "      <th>min</th>\n",
       "      <td>378.000000</td>\n",
       "      <td>270.000000</td>\n",
       "      <td>1.000000</td>\n",
       "      <td>1.000000</td>\n",
       "      <td>56.000000</td>\n",
       "      <td>93.000000</td>\n",
       "      <td>43.000000</td>\n",
       "      <td>60.000000</td>\n",
       "      <td>600.000000</td>\n",
       "      <td>576.000000</td>\n",
       "      <td>68.253968</td>\n",
       "      <td>95.238095</td>\n",
       "      <td>0.296137</td>\n",
       "      <td>0.367312</td>\n",
       "      <td>0.583034</td>\n",
       "      <td>0.583034</td>\n",
       "    </tr>\n",
       "    <tr>\n",
       "      <th>25%</th>\n",
       "      <td>378.000000</td>\n",
       "      <td>504.000000</td>\n",
       "      <td>69.000000</td>\n",
       "      <td>104.500000</td>\n",
       "      <td>206.500000</td>\n",
       "      <td>287.500000</td>\n",
       "      <td>115.000000</td>\n",
       "      <td>143.500000</td>\n",
       "      <td>600.000000</td>\n",
       "      <td>800.000000</td>\n",
       "      <td>177.955556</td>\n",
       "      <td>224.603175</td>\n",
       "      <td>0.724282</td>\n",
       "      <td>0.672783</td>\n",
       "      <td>1.051791</td>\n",
       "      <td>1.051791</td>\n",
       "    </tr>\n",
       "    <tr>\n",
       "      <th>50%</th>\n",
       "      <td>378.000000</td>\n",
       "      <td>504.000000</td>\n",
       "      <td>124.000000</td>\n",
       "      <td>172.000000</td>\n",
       "      <td>279.000000</td>\n",
       "      <td>372.000000</td>\n",
       "      <td>149.000000</td>\n",
       "      <td>188.000000</td>\n",
       "      <td>600.000000</td>\n",
       "      <td>800.000000</td>\n",
       "      <td>210.133333</td>\n",
       "      <td>266.666667</td>\n",
       "      <td>0.773869</td>\n",
       "      <td>0.806058</td>\n",
       "      <td>1.182128</td>\n",
       "      <td>1.182128</td>\n",
       "    </tr>\n",
       "    <tr>\n",
       "      <th>75%</th>\n",
       "      <td>378.000000</td>\n",
       "      <td>504.000000</td>\n",
       "      <td>208.000000</td>\n",
       "      <td>234.000000</td>\n",
       "      <td>346.500000</td>\n",
       "      <td>424.500000</td>\n",
       "      <td>176.000000</td>\n",
       "      <td>231.000000</td>\n",
       "      <td>600.000000</td>\n",
       "      <td>800.000000</td>\n",
       "      <td>255.555556</td>\n",
       "      <td>323.015873</td>\n",
       "      <td>0.889113</td>\n",
       "      <td>1.010133</td>\n",
       "      <td>1.412498</td>\n",
       "      <td>1.412498</td>\n",
       "    </tr>\n",
       "    <tr>\n",
       "      <th>max</th>\n",
       "      <td>960.000000</td>\n",
       "      <td>540.000000</td>\n",
       "      <td>749.000000</td>\n",
       "      <td>443.000000</td>\n",
       "      <td>928.000000</td>\n",
       "      <td>540.000000</td>\n",
       "      <td>315.000000</td>\n",
       "      <td>352.000000</td>\n",
       "      <td>1024.000000</td>\n",
       "      <td>800.000000</td>\n",
       "      <td>441.269841</td>\n",
       "      <td>558.730159</td>\n",
       "      <td>2.822581</td>\n",
       "      <td>1.686801</td>\n",
       "      <td>2.402397</td>\n",
       "      <td>2.402397</td>\n",
       "    </tr>\n",
       "  </tbody>\n",
       "</table>\n",
       "</div>"
      ],
      "text/plain": [
       "            width      height        xmin        ymin        xmax        ymax  \\\n",
       "count  527.000000  527.000000  527.000000  527.000000  527.000000  527.000000   \n",
       "mean   480.182163  508.952562  161.091082  169.635674  308.554080  357.265655   \n",
       "std    221.004063   22.680363  131.068885   87.936224  146.202463   92.654976   \n",
       "min    378.000000  270.000000    1.000000    1.000000   56.000000   93.000000   \n",
       "25%    378.000000  504.000000   69.000000  104.500000  206.500000  287.500000   \n",
       "50%    378.000000  504.000000  124.000000  172.000000  279.000000  372.000000   \n",
       "75%    378.000000  504.000000  208.000000  234.000000  346.500000  424.500000   \n",
       "max    960.000000  540.000000  749.000000  443.000000  928.000000  540.000000   \n",
       "\n",
       "                w           h        new_w       new_h         b_w  \\\n",
       "count  527.000000  527.000000   527.000000  527.000000  527.000000   \n",
       "mean   148.462998  188.629981   676.432638  759.620493  218.338942   \n",
       "std     44.945532   57.973884   163.144093   86.189332   61.497894   \n",
       "min     43.000000   60.000000   600.000000  576.000000   68.253968   \n",
       "25%    115.000000  143.500000   600.000000  800.000000  177.955556   \n",
       "50%    149.000000  188.000000   600.000000  800.000000  210.133333   \n",
       "75%    176.000000  231.000000   600.000000  800.000000  255.555556   \n",
       "max    315.000000  352.000000  1024.000000  800.000000  441.269841   \n",
       "\n",
       "              b_h        b_ar  b_area_scale    tf_scale  tf_scale_2  \n",
       "count  527.000000  527.000000    527.000000  527.000000  527.000000  \n",
       "mean   277.058739    0.824470      0.845913    1.242386    1.242386  \n",
       "std     78.634511    0.259569      0.240934    0.314987    0.314987  \n",
       "min     95.238095    0.296137      0.367312    0.583034    0.583034  \n",
       "25%    224.603175    0.724282      0.672783    1.051791    1.051791  \n",
       "50%    266.666667    0.773869      0.806058    1.182128    1.182128  \n",
       "75%    323.015873    0.889113      1.010133    1.412498    1.412498  \n",
       "max    558.730159    2.822581      1.686801    2.402397    2.402397  "
      ]
     },
     "execution_count": 37,
     "metadata": {},
     "output_type": "execute_result"
    }
   ],
   "source": [
    "data.describe()"
   ]
  },
  {
   "cell_type": "code",
   "execution_count": 12,
   "metadata": {},
   "outputs": [
    {
     "name": "stderr",
     "output_type": "stream",
     "text": [
      "/home/yoda/tensorflow-1.9.0/local/lib/python2.7/site-packages/scipy/stats/stats.py:1713: FutureWarning: Using a non-tuple sequence for multidimensional indexing is deprecated; use `arr[tuple(seq)]` instead of `arr[seq]`. In the future this will be interpreted as an array index, `arr[np.array(seq)]`, which will result either in an error or a different result.\n",
      "  return np.add.reduce(sorted[indexer] * weights, axis=axis) / sumval\n"
     ]
    },
    {
     "data": {
      "text/plain": [
       "<seaborn.axisgrid.JointGrid at 0x7f1050638310>"
      ]
     },
     "execution_count": 12,
     "metadata": {},
     "output_type": "execute_result"
    },
    {
     "data": {
      "image/png": "[encoded data removed]",
      "text/plain": [
       "<Figure size 432x432 with 3 Axes>"
      ]
     },
     "metadata": {},
     "output_type": "display_data"
    },
    {
     "data": {
      "image/png": "[encoded data removed]",
      "text/plain": [
       "<Figure size 432x432 with 3 Axes>"
      ]
     },
     "metadata": {},
     "output_type": "display_data"
    }
   ],
   "source": [
    "#Joint Plot of w and h\n",
    "sns.jointplot(x=\"b_w\", y=\"b_h\", data=data)\n",
    "sns.jointplot(x=\"b_w\", y=\"b_h\", data=data, kind='kde')"
   ]
  },
  {
   "cell_type": "code",
   "execution_count": 15,
   "metadata": {},
   "outputs": [
    {
     "data": {
      "image/png": "[encoded data removed]",
      "text/plain": [
       "<Figure size 432x288 with 1 Axes>"
      ]
     },
     "metadata": {},
     "output_type": "display_data"
    }
   ],
   "source": [
    "D = count_base_size(data[\"w\"].tolist(), data[\"h\"].tolist())\n",
    "import collections\n",
    "OD = collections.OrderedDict(sorted(D.items()))\n",
    "plt.bar(range(len(OD)), OD.values(), align='center')  # python 2.x\n",
    "plt.xticks(range(len(OD)), OD.keys())  # in python 2.x\n",
    "\n",
    "plt.show()\n"
   ]
  },
  {
   "cell_type": "code",
   "execution_count": 16,
   "metadata": {},
   "outputs": [
    {
     "data": {
      "text/plain": [
       "Index([u'filename', u'width', u'height', u'class', u'xmin', u'ymin', u'xmax',\n",
       "       u'ymax', u'w', u'h', u'new_w', u'new_h', u'b_w', u'b_h', u'b_ar',\n",
       "       u'b_area_scale', u'tf_scale'],\n",
       "      dtype='object')"
      ]
     },
     "execution_count": 16,
     "metadata": {},
     "output_type": "execute_result"
    }
   ],
   "source": [
    "data.columns"
   ]
  },
  {
   "cell_type": "markdown",
   "metadata": {},
   "source": [
    "## Clusterring\n",
    "\n",
    "### One by One"
   ]
  },
  {
   "cell_type": "code",
   "execution_count": 26,
   "metadata": {},
   "outputs": [
    {
     "data": {
      "text/plain": [
       "[<matplotlib.lines.Line2D at 0x7f1004d7a590>]"
      ]
     },
     "execution_count": 26,
     "metadata": {},
     "output_type": "execute_result"
    },
    {
     "data": {
      "image/png": "[encoded data removed]",
      "text/plain": [
       "<Figure size 432x288 with 1 Axes>"
      ]
     },
     "metadata": {},
     "output_type": "display_data"
    }
   ],
   "source": [
    "\n",
    "# 1 class AR\n",
    "X = data.iloc[:,14].values\n",
    "X = X.reshape(-1,1)\n",
    "\n",
    "\n",
    "loss = []\n",
    "from sklearn.cluster import KMeans\n",
    "for i in range(2,10):\n",
    "    K = KMeans(i, random_state=1)\n",
    "    labels = K.fit(X)\n",
    "    loss.append(labels.inertia_)\n",
    "\n",
    "plt.plot(loss)"
   ]
  },
  {
   "cell_type": "code",
   "execution_count": 27,
   "metadata": {},
   "outputs": [
    {
     "name": "stdout",
     "output_type": "stream",
     "text": [
      "b_ar\n"
     ]
    },
    {
     "data": {
      "text/plain": [
       "array([[0.78240442],\n",
       "       [1.2019433 ],\n",
       "       [0.44523506],\n",
       "       [2.76931501]])"
      ]
     },
     "execution_count": 27,
     "metadata": {},
     "output_type": "execute_result"
    }
   ],
   "source": [
    "print data.columns[14]\n",
    "\n",
    "from sklearn.cluster import KMeans\n",
    "K = KMeans(4, random_state=1)\n",
    "labels = K.fit(X)\n",
    "labels.cluster_centers_"
   ]
  },
  {
   "cell_type": "code",
   "execution_count": 33,
   "metadata": {},
   "outputs": [
    {
     "data": {
      "text/plain": [
       "0.9999999999999998"
      ]
     },
     "execution_count": 33,
     "metadata": {},
     "output_type": "execute_result"
    }
   ],
   "source": [
    "x = data['w']/data['h']\n",
    "\n",
    "data['b_ar'].corr(x)"
   ]
  },
  {
   "cell_type": "code",
   "execution_count": 47,
   "metadata": {},
   "outputs": [
    {
     "data": {
      "text/plain": [
       "[<matplotlib.lines.Line2D at 0x7f1005008810>]"
      ]
     },
     "execution_count": 47,
     "metadata": {},
     "output_type": "execute_result"
    },
    {
     "data": {
      "image/png": "[encoded data removed]",
      "text/plain": [
       "<Figure size 432x288 with 1 Axes>"
      ]
     },
     "metadata": {},
     "output_type": "display_data"
    }
   ],
   "source": [
    "\n",
    "# 1 class TF_Scale\n",
    "X = data.iloc[:,16].values\n",
    "X = X.reshape(-1,1)\n",
    "\n",
    "\n",
    "loss = []\n",
    "from sklearn.cluster import KMeans\n",
    "for i in range(2,10):\n",
    "    K = KMeans(i, random_state=1)\n",
    "    labels = K.fit(X)\n",
    "    loss.append(labels.inertia_)\n",
    "\n",
    "plt.plot(loss)"
   ]
  },
  {
   "cell_type": "code",
   "execution_count": 48,
   "metadata": {},
   "outputs": [
    {
     "data": {
      "text/plain": [
       "[<matplotlib.lines.Line2D at 0x7f1004ace5d0>]"
      ]
     },
     "execution_count": 48,
     "metadata": {},
     "output_type": "execute_result"
    },
    {
     "data": {
      "image/png": "[encoded data removed]",
      "text/plain": [
       "<Figure size 432x288 with 1 Axes>"
      ]
     },
     "metadata": {},
     "output_type": "display_data"
    }
   ],
   "source": [
    "plt.plot(X, 'o')"
   ]
  },
  {
   "cell_type": "code",
   "execution_count": 25,
   "metadata": {},
   "outputs": [
    {
     "name": "stdout",
     "output_type": "stream",
     "text": [
      "tf_scale\n"
     ]
    },
    {
     "data": {
      "text/plain": [
       "array([[1.14693558],\n",
       "       [2.01577181],\n",
       "       [0.84961377],\n",
       "       [1.49450567]])"
      ]
     },
     "execution_count": 25,
     "metadata": {},
     "output_type": "execute_result"
    }
   ],
   "source": [
    "print data.columns[16]\n",
    "\n",
    "from sklearn.cluster import KMeans\n",
    "K = KMeans(4, random_state=1)\n",
    "labels = K.fit(X)\n",
    "labels.cluster_centers_"
   ]
  },
  {
   "cell_type": "code",
   "execution_count": null,
   "metadata": {},
   "outputs": [],
   "source": []
  },
  {
   "cell_type": "code",
   "execution_count": 34,
   "metadata": {},
   "outputs": [
    {
     "data": {
      "text/plain": [
       "[<matplotlib.lines.Line2D at 0x7f1004a833d0>]"
      ]
     },
     "execution_count": 34,
     "metadata": {},
     "output_type": "execute_result"
    },
    {
     "data": {
      "image/png": "[encoded data removed]",
      "text/plain": [
       "<Figure size 432x288 with 1 Axes>"
      ]
     },
     "metadata": {},
     "output_type": "display_data"
    }
   ],
   "source": [
    "\n",
    "# 1 class area_Scale\n",
    "X = data.iloc[:,15].values\n",
    "X = X.reshape(-1,1)\n",
    "\n",
    "\n",
    "loss = []\n",
    "from sklearn.cluster import KMeans\n",
    "for i in range(2,10):\n",
    "    K = KMeans(i, random_state=1)\n",
    "    labels = K.fit(X)\n",
    "    loss.append(labels.inertia_)\n",
    "\n",
    "plt.plot(loss)"
   ]
  },
  {
   "cell_type": "code",
   "execution_count": 35,
   "metadata": {},
   "outputs": [
    {
     "name": "stdout",
     "output_type": "stream",
     "text": [
      "b_area_scale\n"
     ]
    },
    {
     "data": {
      "text/plain": [
       "array([[1.31034603],\n",
       "       [0.75597359],\n",
       "       [1.00593311],\n",
       "       [0.55433439]])"
      ]
     },
     "execution_count": 35,
     "metadata": {},
     "output_type": "execute_result"
    }
   ],
   "source": [
    "print data.columns[15]\n",
    "\n",
    "from sklearn.cluster import KMeans\n",
    "K = KMeans(4, random_state=1)\n",
    "labels = K.fit(X)\n",
    "labels.cluster_centers_"
   ]
  },
  {
   "cell_type": "code",
   "execution_count": 50,
   "metadata": {},
   "outputs": [
    {
     "name": "stdout",
     "output_type": "stream",
     "text": [
      "Index([u'b_w', u'b_h'], dtype='object')\n",
      "[[234.92063492 280.95238095]\n",
      " [146.03174603 201.58730159]\n",
      " [207.93650794 173.01587302]\n",
      " ...\n",
      " [185.71428571 141.26984127]\n",
      " [180.95238095 130.15873016]\n",
      " [184.12698413 136.50793651]]\n"
     ]
    },
    {
     "name": "stderr",
     "output_type": "stream",
     "text": [
      "/home/yoda/tensorflow-1.9.0/lib/python2.7/site-packages/ipykernel_launcher.py:2: FutureWarning: Method .as_matrix will be removed in a future version. Use .values instead.\n",
      "  \n"
     ]
    },
    {
     "data": {
      "image/png": "[encoded data removed]",
      "text/plain": [
       "<Figure size 432x288 with 1 Axes>"
      ]
     },
     "metadata": {},
     "output_type": "display_data"
    }
   ],
   "source": [
    "print data.columns[12:14]\n",
    "X = data.as_matrix(columns=data.columns[12:14])\n",
    "print X\n",
    "\n",
    "\n",
    "\n",
    "from sklearn.cluster import KMeans\n",
    "K = KMeans(5, random_state=0)\n",
    "labels = K.fit(X)\n",
    "plt.scatter(X[:, 0], X[:, 1], c=labels.labels_,\n",
    "            s=50, cmap='viridis');"
   ]
  },
  {
   "cell_type": "code",
   "execution_count": 46,
   "metadata": {},
   "outputs": [
    {
     "name": "stdout",
     "output_type": "stream",
     "text": [
      "[0.44050928 0.86447933 0.81207427 0.86933814 0.76808116]\n",
      "[[149.96947497 340.44566545]\n",
      " [211.8982906  245.11666667]\n",
      " [266.38636788 328.03202614]\n",
      " [159.46089466 183.42793009]\n",
      " [349.25595238 454.71230159]]\n"
     ]
    }
   ],
   "source": [
    "out = labels.cluster_centers_\n",
    "\n",
    "ar = out[:,0]/out[:,1]\n",
    "\n",
    "print ar\n",
    "print out"
   ]
  },
  {
   "cell_type": "code",
   "execution_count": 44,
   "metadata": {},
   "outputs": [],
   "source": [
    "scale = out[:,1]*np.sqrt(ar)/196"
   ]
  },
  {
   "cell_type": "code",
   "execution_count": 45,
   "metadata": {},
   "outputs": [
    {
     "data": {
      "text/plain": [
       "array([1.15284062, 1.16277069, 1.50819692, 0.872577  , 2.03321914])"
      ]
     },
     "execution_count": 45,
     "metadata": {},
     "output_type": "execute_result"
    }
   ],
   "source": [
    "scale"
   ]
  },
  {
   "cell_type": "code",
   "execution_count": 49,
   "metadata": {},
   "outputs": [],
   "source": [
    "#utility functions for K-means\n",
    "import numpy as np\n",
    "\n",
    "\n",
    "def iou(box, clusters):\n",
    "    \"\"\"\n",
    "    Calculates the Intersection over Union (IoU) between a box and k clusters.\n",
    "    :param box: tuple or array, shifted to the origin (i. e. width and height)\n",
    "    :param clusters: numpy array of shape (k, 2) where k is the number of clusters\n",
    "    :return: numpy array of shape (k, 0) where k is the number of clusters\n",
    "    \"\"\"\n",
    "    x = np.minimum(clusters[:, 0], box[0])\n",
    "    y = np.minimum(clusters[:, 1], box[1])\n",
    "    if np.count_nonzero(x == 0) > 0 or np.count_nonzero(y == 0) > 0:\n",
    "        raise ValueError(\"Box has no area\")\n",
    "\n",
    "    intersection = x * y\n",
    "    box_area = box[0] * box[1]\n",
    "    cluster_area = clusters[:, 0] * clusters[:, 1]\n",
    "\n",
    "    iou_ = intersection / (box_area + cluster_area - intersection)\n",
    "\n",
    "    return iou_\n",
    "\n",
    "\n",
    "def avg_iou(boxes, clusters):\n",
    "    \"\"\"\n",
    "    Calculates the average Intersection over Union (IoU) between a numpy array of boxes and k clusters.\n",
    "    :param boxes: numpy array of shape (r, 2), where r is the number of rows\n",
    "    :param clusters: numpy array of shape (k, 2) where k is the number of clusters\n",
    "    :return: average IoU as a single float\n",
    "    \"\"\"\n",
    "    return np.mean([np.max(iou(boxes[i], clusters)) for i in range(boxes.shape[0])])\n",
    "\n",
    "\n",
    "def translate_boxes(boxes):\n",
    "    \"\"\"\n",
    "    Translates all the boxes to the origin.\n",
    "    :param boxes: numpy array of shape (r, 4)\n",
    "    :return: numpy array of shape (r, 2)\n",
    "    \"\"\"\n",
    "    new_boxes = boxes.copy()\n",
    "    for row in range(new_boxes.shape[0]):\n",
    "        new_boxes[row][2] = np.abs(new_boxes[row][2] - new_boxes[row][0])\n",
    "        new_boxes[row][3] = np.abs(new_boxes[row][3] - new_boxes[row][1])\n",
    "    return np.delete(new_boxes, [0, 1], axis=1)\n",
    "\n",
    "\n",
    "def kmeans(boxes, k, dist=np.median):\n",
    "    \"\"\"\n",
    "    Calculates k-means clustering with the Intersection over Union (IoU) metric.\n",
    "    :param boxes: numpy array of shape (r, 2), where r is the number of rows\n",
    "    :param k: number of clusters\n",
    "    :param dist: distance function\n",
    "    :return: numpy array of shape (k, 2)\n",
    "    \"\"\"\n",
    "    rows = boxes.shape[0]\n",
    "\n",
    "    distances = np.empty((rows, k))\n",
    "    last_clusters = np.zeros((rows,))\n",
    "\n",
    "    np.random.seed()\n",
    "\n",
    "    # the Forgy method will fail if the whole array contains the same rows\n",
    "    clusters = boxes[np.random.choice(rows, k, replace=False)]\n",
    "\n",
    "    while True:\n",
    "        for row in range(rows):\n",
    "            distances[row] = 1 - iou(boxes[row], clusters)\n",
    "\n",
    "        nearest_clusters = np.argmin(distances, axis=1)\n",
    "\n",
    "        if (last_clusters == nearest_clusters).all():\n",
    "            break\n",
    "\n",
    "        for cluster in range(k):\n",
    "            clusters[cluster] = dist(boxes[nearest_clusters == cluster], axis=0)\n",
    "\n",
    "        last_clusters = nearest_clusters\n",
    "\n",
    "    return clusters"
   ]
  },
  {
   "cell_type": "code",
   "execution_count": 53,
   "metadata": {},
   "outputs": [],
   "source": [
    "cl = kmeans(X, 4)"
   ]
  },
  {
   "cell_type": "code",
   "execution_count": 54,
   "metadata": {},
   "outputs": [
    {
     "name": "stdout",
     "output_type": "stream",
     "text": [
      "[[157.5047619  196.82539683]\n",
      " [187.51746032 265.87301587]\n",
      " [271.42857143 334.12698413]\n",
      " [239.68253968 209.52380952]]\n"
     ]
    }
   ],
   "source": [
    "print cl"
   ]
  },
  {
   "cell_type": "code",
   "execution_count": 55,
   "metadata": {},
   "outputs": [
    {
     "name": "stdout",
     "output_type": "stream",
     "text": [
      "[0.80022581 0.70528955 0.81235154 1.14393939]\n"
     ]
    }
   ],
   "source": [
    "ar_iou = cl[:,0]/cl[:,1]\n",
    "\n",
    "print ar_iou"
   ]
  },
  {
   "cell_type": "code",
   "execution_count": 57,
   "metadata": {},
   "outputs": [
    {
     "name": "stdout",
     "output_type": "stream",
     "text": [
      "[0.89832056 1.13920509 1.53648203 1.14334901]\n"
     ]
    }
   ],
   "source": [
    "scale_iou = cl[:,1]*np.sqrt(ar_iou)/196\n",
    "print scale_iou"
   ]
  },
  {
   "cell_type": "code",
   "execution_count": null,
   "metadata": {},
   "outputs": [],
   "source": []
  }
 ],
 "metadata": {
  "kernelspec": {
   "display_name": "Python 2",
   "language": "python",
   "name": "python2"
  },
  "language_info": {
   "codemirror_mode": {
    "name": "ipython",
    "version": 2
   },
   "file_extension": ".py",
   "mimetype": "text/x-python",
   "name": "python",
   "nbconvert_exporter": "python",
   "pygments_lexer": "ipython2",
   "version": "2.7.12"
  }
 },
 "nbformat": 4,
 "nbformat_minor": 2
}
